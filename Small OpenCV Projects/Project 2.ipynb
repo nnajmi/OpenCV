{
 "cells": [
  {
   "cell_type": "markdown",
   "metadata": {},
   "source": [
    "# Document Scanner"
   ]
  },
  {
   "cell_type": "code",
   "execution_count": 26,
   "metadata": {},
   "outputs": [],
   "source": [
    "import cv2\n",
    "import numpy as np\n",
    "height = 640\n",
    "width = 480\n",
    "cap = cv2.VideoCapture(1)\n",
    "cap.set(0, height) #Width\n",
    "cap.set(4, width) #Height\n",
    "cap.set(10, 100) #Brightness\n",
    "def preProcessing(img):\n",
    "    imgGray = cv2.cvtColor(img, cv2.COLOR_BGR2GRAY)\n",
    "    imgBlur = cv2.GaussianBlur(imgGray, (1, 1), 1)\n",
    "    imgCanny = cv2.Canny(imgBlur, 100, 220)\n",
    "    cv2.imshow(\"Test\", imgCanny)\n",
    "    kernel = np.ones((2, 2))\n",
    "    imgDilate = cv2.dilate(imgCanny, kernel, iterations = 2)\n",
    "    imgErode = cv2.erode(imgDilate, kernel, iterations = 1)\n",
    "    imgThreshold = imgErode\n",
    "    cv2.imshow(\"Thresh\", imgThreshold)\n",
    "    return imgThreshold\n",
    "def getContours(img):\n",
    "    biggest = np.array([])\n",
    "    maxArea = 0\n",
    "    contours, hierarchy = cv2.findContours(img, cv2.RETR_EXTERNAL, cv2.CHAIN_APPROX_NONE)\n",
    "    for cnt in contours:\n",
    "        area = cv2.contourArea(cnt)\n",
    "        if area > 5000:\n",
    "            cv2.drawContours(imgContour, cnt, -1, (255, 0, 0), 3)\n",
    "            peri = cv2.arcLength(cnt, True)\n",
    "            approx = cv2.approxPolyDP(cnt, 0.02 * peri, True)\n",
    "            if(area > maxArea and len(approx) == 4):\n",
    "                maxArea = area\n",
    "                biggest = approx\n",
    "    cv2.drawContours(imgContour, biggest, -1, (255, 0, 0), 10)\n",
    "    #print(biggest)\n",
    "    return biggest\n",
    "def reorder(points):\n",
    "    points = points.reshape((4, 2))\n",
    "    pointsReordered = np.zeros((4,1,2), np.int32)\n",
    "    \n",
    "    add = points.sum(1)\n",
    "    pointsReordered[0] = points[np.argmin(add)]\n",
    "    pointsReordered[3] = points[np.argmax(add)]\n",
    "    \n",
    "    diff = np.diff(points, axis = 1)\n",
    "    pointsReordered[1] = points[np.argmin(diff)]\n",
    "    pointsReordered[2] = points[np.argmax(diff)]\n",
    "    return pointsReordered\n",
    "def getWarp(img, biggest):\n",
    "    biggest = reorder(biggest)\n",
    "    pt1 = np.float32(biggest)\n",
    "    pt2 = np.float32([[0, 0], [width, 0], [0, height], [width, height]])\n",
    "    matrix = cv2.getPerspectiveTransform(pt1, pt2)\n",
    "    imgOutput = cv2.warpPerspective(img, matrix, (width, height))\n",
    "    \n",
    "    imgCropped = imgOutput[20:imgOutput.shape[0]-20, 20:imgOutput.shape[1]-20]\n",
    "    imgCropped = cv2.resize(imgCropped, (width, height))\n",
    "    return imgCropped\n",
    "    #pass\n",
    "while True:\n",
    "    success, img = cap.read()\n",
    "    imgContour = img.copy();\n",
    "    imgThreshold = preProcessing(img)\n",
    "    biggest = getContours(imgThreshold)\n",
    "#     print(biggest.shape)\n",
    "#     print(biggest)\n",
    "    if biggest.size != 0:\n",
    "        imgWarped = getWarp(img, biggest)\n",
    "        cv2.imshow(\"Warped\", imgWarped)\n",
    "    #cv2.imshow(\"Video\", img)q\n",
    "    cv2.imshow(\"Contour\", imgContour)\n",
    "    if cv2.waitKey(1) & 0xFF == ord('q'):\n",
    "        break\n",
    "cap.release()\n",
    "cv2.destroyAllWindows()"
   ]
  },
  {
   "cell_type": "code",
   "execution_count": null,
   "metadata": {},
   "outputs": [],
   "source": []
  },
  {
   "cell_type": "code",
   "execution_count": null,
   "metadata": {},
   "outputs": [],
   "source": []
  }
 ],
 "metadata": {
  "kernelspec": {
   "display_name": "Python 3",
   "language": "python",
   "name": "python3"
  },
  "language_info": {
   "codemirror_mode": {
    "name": "ipython",
    "version": 3
   },
   "file_extension": ".py",
   "mimetype": "text/x-python",
   "name": "python",
   "nbconvert_exporter": "python",
   "pygments_lexer": "ipython3",
   "version": "3.8.3"
  }
 },
 "nbformat": 4,
 "nbformat_minor": 4
}
