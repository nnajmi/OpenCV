{
 "cells": [
  {
   "cell_type": "markdown",
   "metadata": {},
   "source": [
    "# Document Scanner"
   ]
  },
  {
   "cell_type": "code",
   "execution_count": 6,
   "metadata": {},
   "outputs": [],
   "source": [
    "import cv2\n",
    "import numpy as np\n",
    "cap = cv2.VideoCapture(0)\n",
    "cap.set(0, 640) #Width\n",
    "cap.set(4, 480) #Height\n",
    "cap.set(10, 150) #Brightness\n",
    "def preProcessing(img):\n",
    "    imgGray = cv2.cvtColor(img, cv2.COLOR_BGR2GRAY)\n",
    "    imgBlur = cv2.GaussianBlur(imgGray, (5, 5), 1)\n",
    "    imgCanny = cv2.Canny(imgBlur, 80, 80)\n",
    "    #cv2.imshow(\"Test\", imgCanny)\n",
    "    kernel = np.ones((5, 5))\n",
    "    imgDilate = cv2.dilate(imgCanny, kernel, iterations = 2)\n",
    "    imgErode = cv2.erode(imgDilate, kernel, iterations = 1)\n",
    "    imgThreshold = imgErode\n",
    "    return imgThreshold\n",
    "def getContours(img):\n",
    "    contours, hierarchy = cv2.findContours(img, cv2.RETR_EXTERNAL, cv2.CHAIN_APPROX_NONE)\n",
    "    for cnt in contours:\n",
    "        area = cv2.contourArea(cnt)\n",
    "        if area > 5000:\n",
    "            cv2.drawContours(imgContour, cnt, -1, (255, 0, 0), 3)\n",
    "            peri = cv2.arcLength(cnt, True)\n",
    "            approx = cv2.approxPolyDP(cnt, 0.02 * peri, True)\n",
    "            print(len(approx)) #must be 4\n",
    "            x, y, w, h = cv2.boundingRect(approx)\n",
    "            \n",
    "while True:\n",
    "    success, img = cap.read()\n",
    "    imgContour = img.copy();\n",
    "    imgThreshold = preProcessing(img)\n",
    "    cv2.imshow(\"Video\", img)\n",
    "    cv2.imshow(\"Threshold\", imgContour)\n",
    "    if cv2.waitKey(1) & 0xFF == ord('q'):\n",
    "        break\n",
    "cap.release()\n",
    "cv2.destroyAllWindows()"
   ]
  },
  {
   "cell_type": "code",
   "execution_count": null,
   "metadata": {},
   "outputs": [],
   "source": []
  }
 ],
 "metadata": {
  "kernelspec": {
   "display_name": "Python 3",
   "language": "python",
   "name": "python3"
  },
  "language_info": {
   "codemirror_mode": {
    "name": "ipython",
    "version": 3
   },
   "file_extension": ".py",
   "mimetype": "text/x-python",
   "name": "python",
   "nbconvert_exporter": "python",
   "pygments_lexer": "ipython3",
   "version": "3.8.3"
  }
 },
 "nbformat": 4,
 "nbformat_minor": 4
}
